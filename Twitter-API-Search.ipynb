{
 "cells": [
  {
   "cell_type": "code",
   "execution_count": 14,
   "metadata": {
    "collapsed": false
   },
   "outputs": [],
   "source": [
    "import tweepy\n",
    "import csv"
   ]
  },
  {
   "cell_type": "code",
   "execution_count": 3,
   "metadata": {
    "collapsed": true
   },
   "outputs": [],
   "source": [
    "consumer_key = \"94XN8bGzkqtputEGc9LkCVm61\"\n",
    "consumer_secret = \"P49NmvAJqg1t38YyRUTUDS1e5jLPBY3qYnMWHEAd0HF1JhP4k0\""
   ]
  },
  {
   "cell_type": "code",
   "execution_count": 4,
   "metadata": {
    "collapsed": true
   },
   "outputs": [],
   "source": [
    "access_token = \"4770984914-Pmw0xNDIGvZb1Wvr9ahbD35PdOOnXkT1dihlDPq\"\n",
    "access_token_secret = \"SUlVJRcUSWsLodbNZRZSFKaIwZt7hcDqDfeLdOGTpRWwR\""
   ]
  },
  {
   "cell_type": "code",
   "execution_count": 5,
   "metadata": {
    "collapsed": true
   },
   "outputs": [],
   "source": [
    "## Input\n",
    "company_screen_name = 'walmart'\n",
    "opinion_of_person = 'anw099'\n",
    "hashtags = ['#walmartproblems', '#walmart', '#walmartwednesday']\n",
    "#start_date = '2015-12-21'\n",
    "#end_date = '2016-05-26'\n",
    "\n",
    "header = ['Text', 'Username', 'Geo', 'Timestamp']\n"
   ]
  },
  {
   "cell_type": "code",
   "execution_count": 18,
   "metadata": {
    "collapsed": true
   },
   "outputs": [],
   "source": [
    "## Input\n",
    "company_screen_name = 'google'\n",
    "opinion_of_person = 'hmason'\n",
    "hashtags = ['#google', '#gmail']\n",
    "start_date = '2015-05-21'\n",
    "end_date = '2016-05-26'\n",
    "\n",
    "header = ['Text', 'Username', 'Geo', 'Timestamp']\n"
   ]
  },
  {
   "cell_type": "code",
   "execution_count": 6,
   "metadata": {
    "collapsed": true
   },
   "outputs": [],
   "source": [
    "auth = tweepy.OAuthHandler(consumer_key, consumer_secret)\n",
    "auth.set_access_token(access_token, access_token_secret)\n",
    "api = tweepy.API(auth)"
   ]
  },
  {
   "cell_type": "code",
   "execution_count": 7,
   "metadata": {
    "collapsed": true
   },
   "outputs": [],
   "source": [
    "def limit_handler(cursor):\n",
    "    while True:\n",
    "        try:\n",
    "            yield cursor.next()\n",
    "        except tweepy.RateLimitError:\n",
    "            time.sleep(15 * 60)"
   ]
  },
  {
   "cell_type": "code",
   "execution_count": 8,
   "metadata": {
    "collapsed": false
   },
   "outputs": [],
   "source": [
    "def queryCreator(company_screen_name, opinion_of_person, hashtags, start_date=None, end_date=None):\n",
    "    hashtagString = \" OR \".join(hashtags)\n",
    "    query = \"\" + company_screen_name + \" from:\" + opinion_of_person + \" \" + hashtagString\n",
    "    if start_date is not None and end_date is not None:\n",
    "        timeString = \"since:\" + start_date + \" until:\" + end_date\n",
    "        query = query + \" \" + timeString\n",
    "    return query\n"
   ]
  },
  {
   "cell_type": "code",
   "execution_count": 50,
   "metadata": {
    "collapsed": false
   },
   "outputs": [
    {
     "name": "stdout",
     "output_type": "stream",
     "text": [
      "Query = google from:hmason #google OR #gmail since:2015-05-21 until:2016-05-26\n"
     ]
    }
   ],
   "source": [
    "query = queryCreator(company_screen_name, opinion_of_person, hashtags, start_date, end_date)\n",
    "print \"Query = \" + query\n",
    "query = \"data from:hmason\"\n",
    "with open('output.csv', 'wb') as csvfile:\n",
    "    outputwriter = csv.writer(csvfile, delimiter=',',\n",
    "                            quotechar='\"', quoting=csv.QUOTE_MINIMAL)\n",
    "    for status in limit_handler(tweepy.Cursor(api.user_timeline, screen_name='hmason', count=100).items()):\n",
    "        outputwriter.writerow([status.text.encode('utf-8'), status.user.screen_name, status.geo, status.created_at]) "
   ]
  },
  {
   "cell_type": "code",
   "execution_count": null,
   "metadata": {
    "collapsed": true
   },
   "outputs": [],
   "source": []
  }
 ],
 "metadata": {
  "kernelspec": {
   "display_name": "Python 2",
   "language": "python",
   "name": "python2"
  },
  "language_info": {
   "codemirror_mode": {
    "name": "ipython",
    "version": 2
   },
   "file_extension": ".py",
   "mimetype": "text/x-python",
   "name": "python",
   "nbconvert_exporter": "python",
   "pygments_lexer": "ipython2",
   "version": "2.7.11"
  }
 },
 "nbformat": 4,
 "nbformat_minor": 0
}
